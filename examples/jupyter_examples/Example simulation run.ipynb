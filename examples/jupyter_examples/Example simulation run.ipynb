{
 "cells": [
  {
   "cell_type": "markdown",
   "metadata": {},
   "source": [
    "## Simulate wc_lang model with wc_sim"
   ]
  },
  {
   "cell_type": "code",
   "execution_count": 1,
   "metadata": {},
   "outputs": [],
   "source": [
    "import os\n",
    "import tempfile\n",
    "from argparse import Namespace\n",
    "import matplotlib.pyplot as plt\n",
    "# allow embedded plots in the notebook\n",
    "%matplotlib inline"
   ]
  },
  {
   "cell_type": "markdown",
   "metadata": {},
   "source": [
    "### import simulate and run results"
   ]
  },
  {
   "cell_type": "code",
   "execution_count": 2,
   "metadata": {},
   "outputs": [],
   "source": [
    "from wc_sim.multialgorithm.__main__ import SimController\n",
    "from wc_sim.multialgorithm.run_results import RunResults"
   ]
  },
  {
   "cell_type": "markdown",
   "metadata": {},
   "source": [
    "### Select a tiny model "
   ]
  },
  {
   "cell_type": "code",
   "execution_count": 3,
   "metadata": {},
   "outputs": [],
   "source": [
    "model_filename = os.path.join(os.getcwd(), '../../tests/multialgorithm/fixtures',\n",
    "                              '2_species_1_reaction_with_rates_given_by_reactant_population.xlsx')\n",
    "model_filename = os.path.join(os.getcwd(), '../../tests/multialgorithm/fixtures', '2_species_1_reaction.xlsx')"
   ]
  },
  {
   "cell_type": "markdown",
   "metadata": {},
   "source": [
    "### Set up the inputs"
   ]
  },
  {
   "cell_type": "code",
   "execution_count": 4,
   "metadata": {},
   "outputs": [
    {
     "name": "stdout",
     "output_type": "stream",
     "text": [
      "checkpoints_dir /tmp/tmps8w5apzv\n"
     ]
    }
   ],
   "source": [
    "checkpoints_dir = tempfile.mkdtemp()\n",
    "args = Namespace(\n",
    "    model_file=model_filename,\n",
    "    end_time=10000,\n",
    "    checkpoint_period=50,\n",
    "    checkpoints_dir=checkpoints_dir\n",
    ")\n",
    "SimController.process_and_validate_args(args)"
   ]
  },
  {
   "cell_type": "markdown",
   "metadata": {},
   "source": [
    "### Simulate"
   ]
  },
  {
   "cell_type": "code",
   "execution_count": 5,
   "metadata": {},
   "outputs": [
    {
     "name": "stdout",
     "output_type": "stream",
     "text": [
      "Simulated 10293 events\n",
      "Saved checkpoints and run results in '/tmp/tmps8w5apzv/2018-05-23-23-53-19'\n"
     ]
    },
    {
     "name": "stderr",
     "output_type": "stream",
     "text": [
      "/usr/local/lib/python3.6/site-packages/pandas/core/generic.py:1471 \u001b[1;31mPerformanceWarning\u001b[0m: \n",
      "your performance may suffer as PyTables will pickle object types that it cannot\n",
      "map directly to c-types [inferred_type->bytes,key->values] [items->None]\n",
      "\n",
      "/usr/local/lib/python3.6/site-packages/pandas/core/generic.py:1471 \u001b[1;31mPerformanceWarning\u001b[0m: \n",
      "your performance may suffer as PyTables will pickle object types that it cannot\n",
      "map directly to c-types [inferred_type->mixed,key->values] [items->None]\n",
      "\n"
     ]
    }
   ],
   "source": [
    "# simulate\n",
    "num_events, results_dir = SimController.simulate(args)"
   ]
  },
  {
   "cell_type": "code",
   "execution_count": 6,
   "metadata": {},
   "outputs": [],
   "source": [
    "# view results\n",
    "run_results = RunResults(results_dir)"
   ]
  },
  {
   "cell_type": "code",
   "execution_count": 7,
   "metadata": {},
   "outputs": [
    {
     "name": "stdout",
     "output_type": "stream",
     "text": [
      "         spec_type_0[c]  spec_type_1[c]\n",
      "0.0           1000000.0       1000000.0\n",
      "50.0           999947.0       1000053.0\n",
      "100.0          999892.0       1000108.0\n",
      "150.0          999849.0       1000151.0\n",
      "200.0          999805.0       1000195.0\n",
      "250.0          999757.0       1000243.0\n",
      "300.0          999714.0       1000286.0\n",
      "350.0          999666.0       1000334.0\n",
      "400.0          999614.0       1000386.0\n",
      "450.0          999559.0       1000441.0\n",
      "500.0          999508.0       1000492.0\n",
      "550.0          999460.0       1000540.0\n",
      "600.0          999418.0       1000582.0\n",
      "650.0          999358.0       1000642.0\n",
      "700.0          999296.0       1000704.0\n",
      "750.0          999247.0       1000753.0\n",
      "800.0          999191.0       1000809.0\n",
      "850.0          999147.0       1000853.0\n",
      "900.0          999111.0       1000889.0\n",
      "950.0          999057.0       1000943.0\n",
      "1000.0         999011.0       1000989.0\n",
      "1050.0         998960.0       1001040.0\n",
      "1100.0         998917.0       1001083.0\n",
      "1150.0         998868.0       1001132.0\n",
      "1200.0         998817.0       1001183.0\n",
      "1250.0         998768.0       1001232.0\n",
      "1300.0         998705.0       1001295.0\n",
      "1350.0         998666.0       1001334.0\n",
      "1400.0         998620.0       1001380.0\n",
      "1450.0         998560.0       1001440.0\n",
      "...                 ...             ...\n",
      "8550.0         991370.0       1008630.0\n",
      "8600.0         991329.0       1008671.0\n",
      "8650.0         991294.0       1008706.0\n",
      "8700.0         991237.0       1008763.0\n",
      "8750.0         991191.0       1008809.0\n",
      "8800.0         991139.0       1008861.0\n",
      "8850.0         991090.0       1008910.0\n",
      "8900.0         991038.0       1008962.0\n",
      "8950.0         990984.0       1009016.0\n",
      "9000.0         990926.0       1009074.0\n",
      "9050.0         990876.0       1009124.0\n",
      "9100.0         990822.0       1009178.0\n",
      "9150.0         990766.0       1009234.0\n",
      "9200.0         990707.0       1009293.0\n",
      "9250.0         990652.0       1009348.0\n",
      "9300.0         990600.0       1009400.0\n",
      "9350.0         990560.0       1009440.0\n",
      "9400.0         990507.0       1009493.0\n",
      "9450.0         990460.0       1009540.0\n",
      "9500.0         990409.0       1009591.0\n",
      "9550.0         990343.0       1009657.0\n",
      "9600.0         990302.0       1009698.0\n",
      "9650.0         990252.0       1009748.0\n",
      "9700.0         990201.0       1009799.0\n",
      "9750.0         990157.0       1009843.0\n",
      "9800.0         990117.0       1009883.0\n",
      "9850.0         990068.0       1009932.0\n",
      "9900.0         990008.0       1009992.0\n",
      "9950.0         989954.0       1010046.0\n",
      "10000.0        989907.0       1010093.0\n",
      "\n",
      "[201 rows x 2 columns]\n"
     ]
    }
   ],
   "source": [
    "print(run_results.get('populations'))"
   ]
  },
  {
   "cell_type": "code",
   "execution_count": 8,
   "metadata": {},
   "outputs": [
    {
     "name": "stdout",
     "output_type": "stream",
     "text": [
      "/tmp/tmps8w5apzv/2018-05-23-23-53-19/run_results.h5\n"
     ]
    }
   ],
   "source": [
    "print(run_results._hdf_file())"
   ]
  },
  {
   "cell_type": "code",
   "execution_count": 9,
   "metadata": {},
   "outputs": [
    {
     "data": {
      "image/png": "[encoded data removed]",
      "text/plain": [
       "<Figure size 432x288 with 1 Axes>"
      ]
     },
     "metadata": {},
     "output_type": "display_data"
    }
   ],
   "source": [
    "axes = run_results.get('populations').plot()"
   ]
  }
 ],
 "metadata": {
  "kernelspec": {
   "display_name": "Python 3",
   "language": "python",
   "name": "python3"
  },
  "language_info": {
   "codemirror_mode": {
    "name": "ipython",
    "version": 3
   },
   "file_extension": ".py",
   "mimetype": "text/x-python",
   "name": "python",
   "nbconvert_exporter": "python",
   "pygments_lexer": "ipython3",
   "version": "3.6.4"
  }
 },
 "nbformat": 4,
 "nbformat_minor": 2
}
