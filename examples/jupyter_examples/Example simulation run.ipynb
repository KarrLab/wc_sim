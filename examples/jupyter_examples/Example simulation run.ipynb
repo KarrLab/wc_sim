{
 "cells": [
  {
   "cell_type": "code",
   "execution_count": 1,
   "metadata": {},
   "outputs": [],
   "source": [
    "import os\n",
    "from argparse import Namespace\n",
    "import matplotlib.pyplot as plt\n",
    "# allow embedded plots in the notebook\n",
    "%matplotlib inline"
   ]
  },
  {
   "cell_type": "code",
   "execution_count": 2,
   "metadata": {},
   "outputs": [],
   "source": [
    "# import simulate and run results\n",
    "from wc_sim.multialgorithm.__main__ import SimController\n",
    "from wc_sim.multialgorithm.run_results import RunResults"
   ]
  },
  {
   "cell_type": "code",
   "execution_count": 3,
   "metadata": {},
   "outputs": [],
   "source": [
    "# select tiny model\n",
    "model_filename = os.path.join(os.getcwd(), '../../tests/multialgorithm/fixtures', '2_species_1_reaction.xlsx')"
   ]
  },
  {
   "cell_type": "code",
   "execution_count": 4,
   "metadata": {},
   "outputs": [],
   "source": [
    "# setup inputs\n",
    "checkpoints_dir = 'tmp/checkpoints_dir'"
   ]
  },
  {
   "cell_type": "code",
   "execution_count": 5,
   "metadata": {},
   "outputs": [],
   "source": [
    "args = Namespace(\n",
    "    model_file=model_filename,\n",
    "    end_time=30,\n",
    "    checkpoint_period=3,\n",
    "    checkpoints_dir=checkpoints_dir,\n",
    "    fba_time_step=5     # although the model doesn't have an FBA submodel\n",
    ")"
   ]
  },
  {
   "cell_type": "code",
   "execution_count": 6,
   "metadata": {},
   "outputs": [
    {
     "ename": "ValueError",
     "evalue": "checkpoints-dir (tmp/checkpoints_dir) must be an empty directory, or not exist",
     "output_type": "error",
     "traceback": [
      "\u001b[0;31m---------------------------------------------------------------------------\u001b[0m",
      "\u001b[0;31mValueError\u001b[0m                                Traceback (most recent call last)",
      "\u001b[0;32m<ipython-input-6-ab732bcc042e>\u001b[0m in \u001b[0;36m<module>\u001b[0;34m()\u001b[0m\n\u001b[0;32m----> 1\u001b[0;31m \u001b[0mSimController\u001b[0m\u001b[0;34m.\u001b[0m\u001b[0mprocess_and_validate_args\u001b[0m\u001b[0;34m(\u001b[0m\u001b[0margs\u001b[0m\u001b[0;34m)\u001b[0m\u001b[0;34m\u001b[0m\u001b[0m\n\u001b[0m",
      "\u001b[0;32m/usr/git_repos/wc_sim/wc_sim/multialgorithm/__main__.py\u001b[0m in \u001b[0;36mprocess_and_validate_args\u001b[0;34m(args)\u001b[0m\n\u001b[1;32m     91\u001b[0m             \u001b[0;32mif\u001b[0m \u001b[0;32mnot\u001b[0m \u001b[0;34m(\u001b[0m\u001b[0mos\u001b[0m\u001b[0;34m.\u001b[0m\u001b[0mpath\u001b[0m\u001b[0;34m.\u001b[0m\u001b[0misdir\u001b[0m\u001b[0;34m(\u001b[0m\u001b[0mresults_sup_dir\u001b[0m\u001b[0;34m)\u001b[0m \u001b[0;32mand\u001b[0m \u001b[0;32mnot\u001b[0m \u001b[0mos\u001b[0m\u001b[0;34m.\u001b[0m\u001b[0mlistdir\u001b[0m\u001b[0;34m(\u001b[0m\u001b[0mresults_sup_dir\u001b[0m\u001b[0;34m)\u001b[0m\u001b[0;34m)\u001b[0m\u001b[0;34m:\u001b[0m\u001b[0;34m\u001b[0m\u001b[0m\n\u001b[1;32m     92\u001b[0m                 raise ValueError(\"checkpoints-dir ({}) must be an empty directory, or not exist\".format(\n\u001b[0;32m---> 93\u001b[0;31m                     args.checkpoints_dir))\n\u001b[0m\u001b[1;32m     94\u001b[0m \u001b[0;34m\u001b[0m\u001b[0m\n\u001b[1;32m     95\u001b[0m             \u001b[0;31m# make a time-stamped sub-dir\u001b[0m\u001b[0;34m\u001b[0m\u001b[0;34m\u001b[0m\u001b[0m\n",
      "\u001b[0;31mValueError\u001b[0m: checkpoints-dir (tmp/checkpoints_dir) must be an empty directory, or not exist"
     ]
    }
   ],
   "source": [
    "SimController.process_and_validate_args(args)"
   ]
  },
  {
   "cell_type": "code",
   "execution_count": 7,
   "metadata": {},
   "outputs": [
    {
     "name": "stdout",
     "output_type": "stream",
     "text": [
      "Simulated 38 events\n",
      "Saved chcekpoints and run results in 'tmp/checkpoints_dir'\n"
     ]
    },
    {
     "name": "stderr",
     "output_type": "stream",
     "text": [
      "/usr/local/lib/python3.6/site-packages/pandas/core/generic.py:1471 \u001b[1;31mPerformanceWarning\u001b[0m: \n",
      "your performance may suffer as PyTables will pickle object types that it cannot\n",
      "map directly to c-types [inferred_type->bytes,key->values] [items->None]\n",
      "\n",
      "/usr/local/lib/python3.6/site-packages/pandas/core/generic.py:1471 \u001b[1;31mPerformanceWarning\u001b[0m: \n",
      "your performance may suffer as PyTables will pickle object types that it cannot\n",
      "map directly to c-types [inferred_type->mixed,key->values] [items->None]\n",
      "\n"
     ]
    }
   ],
   "source": [
    "# simulate\n",
    "num_events, results_dir = SimController.simulate(args)"
   ]
  },
  {
   "cell_type": "code",
   "execution_count": 8,
   "metadata": {},
   "outputs": [],
   "source": [
    "# view results\n",
    "run_results = RunResults(results_dir)"
   ]
  },
  {
   "cell_type": "code",
   "execution_count": 16,
   "metadata": {},
   "outputs": [
    {
     "name": "stdout",
     "output_type": "stream",
     "text": [
      "      spec_type_1[c]  spec_type_0[c]\n",
      "0.0        1000000.0       1000000.0\n",
      "3.0        1000000.0       1000000.0\n",
      "6.0        1000002.0        999998.0\n",
      "9.0        1000003.0        999997.0\n",
      "12.0       1000005.0        999995.0\n",
      "15.0       1000012.0        999988.0\n",
      "18.0       1000014.0        999986.0\n",
      "21.0       1000016.0        999984.0\n",
      "24.0       1000020.0        999980.0\n",
      "27.0       1000022.0        999978.0\n",
      "30.0       1000028.0        999972.0\n",
      "33.0       1000031.0        999969.0\n",
      "36.0       1000036.0        999964.0\n",
      "39.0       1000040.0        999960.0\n",
      "42.0       1000041.0        999959.0\n",
      "45.0       1000045.0        999955.0\n",
      "48.0       1000049.0        999951.0\n",
      "51.0       1000052.0        999948.0\n",
      "54.0       1000056.0        999944.0\n",
      "57.0       1000060.0        999940.0\n",
      "60.0       1000062.0        999938.0\n",
      "63.0       1000063.0        999937.0\n",
      "66.0       1000064.0        999936.0\n",
      "69.0       1000070.0        999930.0\n",
      "72.0       1000074.0        999926.0\n",
      "75.0       1000080.0        999920.0\n",
      "78.0       1000084.0        999916.0\n",
      "81.0       1000087.0        999913.0\n",
      "84.0       1000092.0        999908.0\n",
      "87.0       1000094.0        999906.0\n",
      "90.0       1000097.0        999903.0\n",
      "93.0       1000099.0        999901.0\n",
      "96.0       1000102.0        999898.0\n",
      "99.0       1000105.0        999895.0\n"
     ]
    }
   ],
   "source": [
    "print(run_results.get('populations'))"
   ]
  },
  {
   "cell_type": "code",
   "execution_count": 24,
   "metadata": {},
   "outputs": [
    {
     "name": "stdout",
     "output_type": "stream",
     "text": [
      "/usr/git_repos/wc_sim/examples/jupyter_examples/tmp/checkpoints_dir/2018-05-22-19-19-31/run_results.h5\n"
     ]
    }
   ],
   "source": [
    "print(run_results._hdf_file())"
   ]
  },
  {
   "cell_type": "code",
   "execution_count": 25,
   "metadata": {},
   "outputs": [
    {
     "data": {
      "text/plain": [
       "<matplotlib.axes._subplots.AxesSubplot at 0x7fbdc4c70278>"
      ]
     },
     "execution_count": 25,
     "metadata": {},
     "output_type": "execute_result"
    },
    {
     "data": {
      "image/png": "[encoded data removed]",
      "text/plain": [
       "<Figure size 432x288 with 1 Axes>"
      ]
     },
     "metadata": {},
     "output_type": "display_data"
    }
   ],
   "source": [
    "run_results.get('populations').plot()"
   ]
  },
  {
   "cell_type": "code",
   "execution_count": null,
   "metadata": {},
   "outputs": [],
   "source": []
  }
 ],
 "metadata": {
  "kernelspec": {
   "display_name": "Python 3",
   "language": "python",
   "name": "python3"
  },
  "language_info": {
   "codemirror_mode": {
    "name": "ipython",
    "version": 3
   },
   "file_extension": ".py",
   "mimetype": "text/x-python",
   "name": "python",
   "nbconvert_exporter": "python",
   "pygments_lexer": "ipython3",
   "version": "3.6.4"
  }
 },
 "nbformat": 4,
 "nbformat_minor": 2
}
