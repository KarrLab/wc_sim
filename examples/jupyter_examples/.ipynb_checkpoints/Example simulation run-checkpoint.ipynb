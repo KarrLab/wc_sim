{
 "cells": [
  {
   "cell_type": "markdown",
   "metadata": {},
   "source": [
    "## Simulate wc_lang model with wc_sim"
   ]
  },
  {
   "cell_type": "code",
   "execution_count": 1,
   "metadata": {},
   "outputs": [],
   "source": [
    "import os\n",
    "import tempfile\n",
    "from argparse import Namespace\n",
    "import matplotlib.pyplot as plt\n",
    "# allow embedded plots in the notebook\n",
    "%matplotlib inline"
   ]
  },
  {
   "cell_type": "markdown",
   "metadata": {},
   "source": [
    "### import simulate and run results"
   ]
  },
  {
   "cell_type": "code",
   "execution_count": 2,
   "metadata": {},
   "outputs": [],
   "source": [
    "from wc_sim.multialgorithm.__main__ import SimController\n",
    "from wc_sim.multialgorithm.run_results import RunResults"
   ]
  },
  {
   "cell_type": "markdown",
   "metadata": {},
   "source": [
    "### Select a tiny model "
   ]
  },
  {
   "cell_type": "code",
   "execution_count": 3,
   "metadata": {},
   "outputs": [],
   "source": [
    "steady_rate_model_filename = os.path.join(os.getcwd(), '../../tests/multialgorithm/fixtures',\n",
    "                                              '2_species_1_reaction.xlsx')\n",
    "reactant_rate_model_filename = os.path.join(os.getcwd(), '../../tests/multialgorithm/fixtures',\n",
    "                              '2_species_1_reaction_with_rates_given_by_reactant_population.xlsx')\n"
   ]
  },
  {
   "cell_type": "markdown",
   "metadata": {},
   "source": [
    "### Set up the inputs"
   ]
  },
  {
   "cell_type": "code",
   "execution_count": 4,
   "metadata": {},
   "outputs": [],
   "source": [
    "checkpoints_dir = tempfile.mkdtemp()\n",
    "args = Namespace(\n",
    "    model_file=reactant_rate_model_filename,\n",
    "    end_time=1000,\n",
    "    checkpoint_period=50,\n",
    "    checkpoints_dir=checkpoints_dir\n",
    ")\n",
    "SimController.process_and_validate_args(args)"
   ]
  },
  {
   "cell_type": "markdown",
   "metadata": {},
   "source": [
    "### Simulate"
   ]
  },
  {
   "cell_type": "code",
   "execution_count": 5,
   "metadata": {},
   "outputs": [
    {
     "name": "stdout",
     "output_type": "stream",
     "text": [
      "Simulated 2061 events\n",
      "Saved checkpoints and run results in '/tmp/tmpapxd5ldg/2018-05-24-18-03-49'\n"
     ]
    },
    {
     "name": "stderr",
     "output_type": "stream",
     "text": [
      "/usr/local/lib/python3.6/site-packages/pandas/core/generic.py:1471 \u001b[1;31mPerformanceWarning\u001b[0m: \n",
      "your performance may suffer as PyTables will pickle object types that it cannot\n",
      "map directly to c-types [inferred_type->bytes,key->values] [items->None]\n",
      "\n",
      "/usr/local/lib/python3.6/site-packages/pandas/core/generic.py:1471 \u001b[1;31mPerformanceWarning\u001b[0m: \n",
      "your performance may suffer as PyTables will pickle object types that it cannot\n",
      "map directly to c-types [inferred_type->mixed,key->values] [items->None]\n",
      "\n"
     ]
    }
   ],
   "source": [
    "num_events, results_dir = SimController.simulate(args)"
   ]
  },
  {
   "cell_type": "code",
   "execution_count": 6,
   "metadata": {},
   "outputs": [],
   "source": [
    "# view results\n",
    "run_results = RunResults(results_dir)"
   ]
  },
  {
   "cell_type": "code",
   "execution_count": 7,
   "metadata": {},
   "outputs": [
    {
     "name": "stdout",
     "output_type": "stream",
     "text": [
      "        spec_type_0[c]  spec_type_1[c]\n",
      "0.0             2000.0             0.0\n",
      "50.0             874.0          1126.0\n",
      "100.0            367.0          1633.0\n",
      "150.0            166.0          1834.0\n",
      "200.0             68.0          1932.0\n",
      "250.0             35.0          1965.0\n",
      "300.0             13.0          1987.0\n",
      "350.0              5.0          1995.0\n",
      "400.0              2.0          1998.0\n",
      "450.0              2.0          1998.0\n",
      "500.0              0.0          2000.0\n",
      "550.0              0.0          2000.0\n",
      "600.0              0.0          2000.0\n",
      "650.0              0.0          2000.0\n",
      "700.0              0.0          2000.0\n",
      "750.0              0.0          2000.0\n",
      "800.0              0.0          2000.0\n",
      "850.0              0.0          2000.0\n",
      "900.0              0.0          2000.0\n",
      "950.0              0.0          2000.0\n",
      "1000.0             0.0          2000.0\n"
     ]
    }
   ],
   "source": [
    "print(run_results.get('populations'))"
   ]
  },
  {
   "cell_type": "code",
   "execution_count": 8,
   "metadata": {},
   "outputs": [
    {
     "name": "stdout",
     "output_type": "stream",
     "text": [
      "{'metadata', 'populations', 'random_states', 'aggregate_states'}\n",
      "/tmp/tmpapxd5ldg/2018-05-24-18-03-49/run_results.h5\n"
     ]
    }
   ],
   "source": [
    "print(RunResults.COMPONENTS)\n",
    "print(run_results._hdf_file())"
   ]
  },
  {
   "cell_type": "code",
   "execution_count": 9,
   "metadata": {},
   "outputs": [
    {
     "data": {
      "image/png": "[encoded data removed]",
      "text/plain": [
       "<Figure size 432x288 with 1 Axes>"
      ]
     },
     "metadata": {},
     "output_type": "display_data"
    }
   ],
   "source": [
    "axes = run_results.get('populations').plot()"
   ]
  }
 ],
 "metadata": {
  "kernelspec": {
   "display_name": "Python 3",
   "language": "python",
   "name": "python3"
  },
  "language_info": {
   "codemirror_mode": {
    "name": "ipython",
    "version": 3
   },
   "file_extension": ".py",
   "mimetype": "text/x-python",
   "name": "python",
   "nbconvert_exporter": "python",
   "pygments_lexer": "ipython3",
   "version": "3.6.4"
  }
 },
 "nbformat": 4,
 "nbformat_minor": 2
}
